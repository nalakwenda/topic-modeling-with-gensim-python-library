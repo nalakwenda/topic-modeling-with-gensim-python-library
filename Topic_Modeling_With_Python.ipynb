{
 "cells": [
  {
   "cell_type": "code",
   "execution_count": 74,
   "id": "c4fddd78-4ebb-4bfb-8ec2-cfb3313072da",
   "metadata": {},
   "outputs": [],
   "source": [
    "import re\n",
    "import numpy as np\n",
    "import pandas as pd\n",
    "from pprint import pprint\n",
    "\n",
    "# Gensim\n",
    "import gensim\n",
    "import gensim.corpora as corpora\n",
    "from gensim.utils import simple_preprocess\n",
    "from gensim.models import CoherenceModel\n",
    "\n",
    "# spacy for lemmatization\n",
    "import spacy\n",
    "\n",
    "# NLTK\n",
    "from nltk.corpus import stopwords\n",
    "stop_words = stopwords.words('english')\n",
    "\n",
    "import warnings\n",
    "warnings.filterwarnings(\"ignore\",category=DeprecationWarning)"
   ]
  },
  {
   "cell_type": "code",
   "execution_count": 2,
   "id": "95a80fa4-93b7-4545-8534-034301f78974",
   "metadata": {},
   "outputs": [],
   "source": []
  },
  {
   "cell_type": "markdown",
   "id": "3c7b87d9-f278-4a97-af9a-44e48b711a6b",
   "metadata": {},
   "source": [
    "## Data Loading "
   ]
  },
  {
   "cell_type": "code",
   "execution_count": 3,
   "id": "bdd6bb5e-3095-403d-a2e8-797fe0e5704e",
   "metadata": {},
   "outputs": [],
   "source": [
    "df = pd.read_json('./JEOPARDY_QUESTIONS1.json')"
   ]
  },
  {
   "cell_type": "code",
   "execution_count": 4,
   "id": "ef970bd3-01f8-489c-93ff-db4f49554f16",
   "metadata": {},
   "outputs": [
    {
     "data": {
      "text/html": [
       "<div>\n",
       "<style scoped>\n",
       "    .dataframe tbody tr th:only-of-type {\n",
       "        vertical-align: middle;\n",
       "    }\n",
       "\n",
       "    .dataframe tbody tr th {\n",
       "        vertical-align: top;\n",
       "    }\n",
       "\n",
       "    .dataframe thead th {\n",
       "        text-align: right;\n",
       "    }\n",
       "</style>\n",
       "<table border=\"1\" class=\"dataframe\">\n",
       "  <thead>\n",
       "    <tr style=\"text-align: right;\">\n",
       "      <th></th>\n",
       "      <th>category</th>\n",
       "      <th>air_date</th>\n",
       "      <th>question</th>\n",
       "      <th>value</th>\n",
       "      <th>answer</th>\n",
       "      <th>round</th>\n",
       "      <th>show_number</th>\n",
       "    </tr>\n",
       "  </thead>\n",
       "  <tbody>\n",
       "    <tr>\n",
       "      <th>0</th>\n",
       "      <td>HISTORY</td>\n",
       "      <td>2004-12-31</td>\n",
       "      <td>'For the last 8 years of his life, Galileo was...</td>\n",
       "      <td>$200</td>\n",
       "      <td>Copernicus</td>\n",
       "      <td>Jeopardy!</td>\n",
       "      <td>4680</td>\n",
       "    </tr>\n",
       "    <tr>\n",
       "      <th>1</th>\n",
       "      <td>ESPN's TOP 10 ALL-TIME ATHLETES</td>\n",
       "      <td>2004-12-31</td>\n",
       "      <td>'No. 2: 1912 Olympian; football star at Carlis...</td>\n",
       "      <td>$200</td>\n",
       "      <td>Jim Thorpe</td>\n",
       "      <td>Jeopardy!</td>\n",
       "      <td>4680</td>\n",
       "    </tr>\n",
       "    <tr>\n",
       "      <th>2</th>\n",
       "      <td>EVERYBODY TALKS ABOUT IT...</td>\n",
       "      <td>2004-12-31</td>\n",
       "      <td>'The city of Yuma in this state has a record a...</td>\n",
       "      <td>$200</td>\n",
       "      <td>Arizona</td>\n",
       "      <td>Jeopardy!</td>\n",
       "      <td>4680</td>\n",
       "    </tr>\n",
       "    <tr>\n",
       "      <th>3</th>\n",
       "      <td>THE COMPANY LINE</td>\n",
       "      <td>2004-12-31</td>\n",
       "      <td>'In 1963, live on \"The Art Linkletter Show\", t...</td>\n",
       "      <td>$200</td>\n",
       "      <td>McDonald\\'s</td>\n",
       "      <td>Jeopardy!</td>\n",
       "      <td>4680</td>\n",
       "    </tr>\n",
       "    <tr>\n",
       "      <th>4</th>\n",
       "      <td>EPITAPHS &amp; TRIBUTES</td>\n",
       "      <td>2004-12-31</td>\n",
       "      <td>'Signer of the Dec. of Indep., framer of the C...</td>\n",
       "      <td>$200</td>\n",
       "      <td>John Adams</td>\n",
       "      <td>Jeopardy!</td>\n",
       "      <td>4680</td>\n",
       "    </tr>\n",
       "  </tbody>\n",
       "</table>\n",
       "</div>"
      ],
      "text/plain": [
       "                          category    air_date  \\\n",
       "0                          HISTORY  2004-12-31   \n",
       "1  ESPN's TOP 10 ALL-TIME ATHLETES  2004-12-31   \n",
       "2      EVERYBODY TALKS ABOUT IT...  2004-12-31   \n",
       "3                 THE COMPANY LINE  2004-12-31   \n",
       "4              EPITAPHS & TRIBUTES  2004-12-31   \n",
       "\n",
       "                                            question value       answer  \\\n",
       "0  'For the last 8 years of his life, Galileo was...  $200   Copernicus   \n",
       "1  'No. 2: 1912 Olympian; football star at Carlis...  $200   Jim Thorpe   \n",
       "2  'The city of Yuma in this state has a record a...  $200      Arizona   \n",
       "3  'In 1963, live on \"The Art Linkletter Show\", t...  $200  McDonald\\'s   \n",
       "4  'Signer of the Dec. of Indep., framer of the C...  $200   John Adams   \n",
       "\n",
       "       round  show_number  \n",
       "0  Jeopardy!         4680  \n",
       "1  Jeopardy!         4680  \n",
       "2  Jeopardy!         4680  \n",
       "3  Jeopardy!         4680  \n",
       "4  Jeopardy!         4680  "
      ]
     },
     "execution_count": 4,
     "metadata": {},
     "output_type": "execute_result"
    }
   ],
   "source": [
    "df.head()"
   ]
  },
  {
   "cell_type": "code",
   "execution_count": 5,
   "id": "f76f8e8c-32d7-49c8-8b35-b621d641c36f",
   "metadata": {},
   "outputs": [],
   "source": [
    "questions = df['question']"
   ]
  },
  {
   "cell_type": "markdown",
   "id": "de09018f-5108-4dfe-b8ac-63d4fc306471",
   "metadata": {},
   "source": [
    "## Preprocessing"
   ]
  },
  {
   "cell_type": "markdown",
   "id": "26bf1955-ef4c-4052-900f-5512e7e87d89",
   "metadata": {},
   "source": [
    "### Tokenization"
   ]
  },
  {
   "cell_type": "code",
   "execution_count": 6,
   "id": "b4076575-63af-4b33-bba4-0c4334c5d0cf",
   "metadata": {},
   "outputs": [
    {
     "name": "stdout",
     "output_type": "stream",
     "text": [
      "[['no', 'olympian', 'football', 'star', 'at', 'carlisle', 'indian', 'school', 'mlb', 'seasons', 'with', 'the', 'reds', 'giants', 'braves'], ['the', 'city', 'of', 'yuma', 'in', 'this', 'state', 'has', 'record', 'average', 'of', 'hours', 'of', 'sunshine', 'each', 'year']]\n"
     ]
    }
   ],
   "source": [
    "def tokenization(sentences):\n",
    "    for sentence in sentences:\n",
    "        yield(gensim.utils.simple_preprocess(str(sentence), deacc=True))\n",
    "\n",
    "tokenized_sentences = list(tokenization(questions))\n",
    "\n",
    "print(tokenized_sentences [1:3])"
   ]
  },
  {
   "cell_type": "code",
   "execution_count": null,
   "id": "5b322a47-3ac5-4302-bc47-5d093737d0b5",
   "metadata": {},
   "outputs": [],
   "source": [
    "# Build the bigram and trigram models\n",
    "bigram = gensim.models.Phrases(tokenized_sentences, min_count=5, threshold=100) # higher threshold fewer phrases.\n",
    "trigram = gensim.models.Phrases(bigram[tokenized_sentences], threshold=100)  \n",
    "\n",
    "# Faster way to get a sentence clubbed as a trigram/bigram\n",
    "bigram_mod = gensim.models.phrases.Phraser(bigram)\n",
    "trigram_mod = gensim.models.phrases.Phraser(trigram)\n",
    "\n",
    "# See trigram example\n",
    "print(trigram_mod[bigram_mod[tokenized_sentences[0]]])"
   ]
  },
  {
   "cell_type": "code",
   "execution_count": 8,
   "id": "f7a50008-2d93-4781-8bcd-0f8343804963",
   "metadata": {},
   "outputs": [],
   "source": [
    "# Define functions for stopwords, bigrams, trigrams and lemmatization\n",
    "def remove_stopwords(texts):\n",
    "    return [[word for word in simple_preprocess(str(doc)) if word not in stop_words] for doc in texts]\n",
    "\n",
    "def make_bigrams(texts):\n",
    "    return [bigram_mod[doc] for doc in texts]\n",
    "\n",
    "def make_trigrams(texts):\n",
    "    return [trigram_mod[bigram_mod[doc]] for doc in texts]\n",
    "\n",
    "def lemmatization(texts, allowed_postags=['NOUN', 'ADJ', 'VERB', 'ADV']):\n",
    "    \"\"\"https://spacy.io/api/annotation\"\"\"\n",
    "    texts_out = []\n",
    "    for sent in texts:\n",
    "        doc = nlp(\" \".join(sent)) \n",
    "        texts_out.append([token.lemma_ for token in doc if token.pos_ in allowed_postags])\n",
    "    return texts_out"
   ]
  },
  {
   "cell_type": "code",
   "execution_count": 9,
   "id": "f9ae2d03-88a7-4a6b-a607-fd23ae03a22a",
   "metadata": {},
   "outputs": [
    {
     "name": "stderr",
     "output_type": "stream",
     "text": [
      "C:\\Users\\enala_culjkpz\\AppData\\Roaming\\Python\\Python38\\site-packages\\spacy\\util.py:837: UserWarning: [W095] Model 'en_core_web_sm' (3.1.0) was trained with spaCy v3.1 and may not be 100% compatible with the current version (3.3.0). If you see errors or degraded performance, download a newer compatible model or retrain your custom model with the current spaCy version. For more details and available updates, run: python -m spacy validate\n",
      "  warnings.warn(warn_msg)\n"
     ]
    }
   ],
   "source": [
    "# Remove Stop Words\n",
    "tokenized_without_stopwords = remove_stopwords(tokenized_sentences)\n",
    "\n",
    "# Form Bigrams\n",
    "tokenized_without_stopwords_bigrams = make_bigrams(tokenized_without_stopwords)\n",
    "\n",
    "\n",
    "nlp = spacy.load(\"en_core_web_sm\")\n",
    "\n",
    "# Do lemmatization keeping only noun, adj, vb, adv\n",
    "lemmatized_words = lemmatization(tokenized_without_stopwords_bigrams, allowed_postags=['NOUN', 'ADJ', 'VERB', 'ADV'])\n"
   ]
  },
  {
   "cell_type": "code",
   "execution_count": 73,
   "id": "4d4c5d74-6f34-4b95-bc5c-bc3b93708152",
   "metadata": {},
   "outputs": [
    {
     "name": "stdout",
     "output_type": "stream",
     "text": [
      "[['olympian', 'season', 'red', 'giant', 'brave'], ['city', 'state', 'record', 'average', 'hour', 'sunshine', 'year'], ['live', 'art', 'linkletter', 'show', 'company', 'serve', 'billionth', 'burger'], ['second', 'president', 'united_state'], ['title', 'aesop_fable', 'insect', 'share', 'billing', 'grasshopper'], ['build', 'still', 'use', 'today'], ['steal', 'baron', 'steal', 'bull'], ['winter', 'record', 'inch', 'snow', 'fall', 'ranger', 'station', 'state']]\n"
     ]
    }
   ],
   "source": [
    "print(lemmatized_words[1:9])"
   ]
  },
  {
   "cell_type": "code",
   "execution_count": 11,
   "id": "9e34b040-8043-403e-98d2-582ccd10ea64",
   "metadata": {},
   "outputs": [
    {
     "name": "stdout",
     "output_type": "stream",
     "text": [
      "[[(0, 1), (1, 1), (2, 1), (3, 1), (4, 1), (5, 1), (6, 1), (7, 1)]]\n"
     ]
    }
   ],
   "source": [
    "# Create Dictionary\n",
    "dictionary = corpora.Dictionary(lemmatized_words)\n",
    "\n",
    "# Create Corpus\n",
    "texts = lemmatized_words\n",
    "\n",
    "# Term Document Frequency\n",
    "corpus = [dictionary.doc2bow(text) for text in texts]\n",
    "\n",
    "# View\n",
    "print(corpus[:1])"
   ]
  },
  {
   "cell_type": "code",
   "execution_count": 80,
   "id": "bd85a00f-1acc-40e5-acb2-3cc5754d2148",
   "metadata": {},
   "outputs": [
    {
     "name": "stdout",
     "output_type": "stream",
     "text": [
      "[[(0, 1), (1, 1), (2, 1), (3, 1), (4, 1), (5, 1), (6, 1), (7, 1)]]\n"
     ]
    }
   ],
   "source": [
    "# Create Dictionary\n",
    "dictionary = corpora.Dictionary(lemmatized_words)\n",
    "\n",
    "# Create Corpus\n",
    "texts = lemmatized_words\n",
    "\n",
    "# Term Document Frequency\n",
    "corpus = [dictionary.doc2bow(text) for text in texts]\n",
    "\n",
    "# View\n",
    "print(corpus[:1])"
   ]
  },
  {
   "cell_type": "code",
   "execution_count": 33,
   "id": "d8ccbb16-0104-4d4d-b9a6-98491a62051a",
   "metadata": {},
   "outputs": [],
   "source": [
    "lda_model = gensim.models.ldamodel.LdaModel(corpus=corpus,  id2word=dictionary,num_topics= 6)"
   ]
  },
  {
   "cell_type": "code",
   "execution_count": 68,
   "id": "16dc8ac8-3af0-40e3-a943-6ae2778ddceb",
   "metadata": {},
   "outputs": [
    {
     "name": "stdout",
     "output_type": "stream",
     "text": [
      "Topic: 1 \n",
      "Words: ['name', 'br', 'city', 'country', 'first', 'state', 'large', 'island', 'capital', 'world', 'word', 'mean', 'know', 'people', 'good', 'found', 'call', 'become', 'king', 'bear', 'old', 'group', 'year', 'find', 'come', 'give', 'person', 'new', 'letter', 'long', 'river', 'begin', 'part', 'take', 'sea', 'area', 'son', 'also', 'share', 'french', 'latin', 'land', 'last', 'build', 'lie', 'home', 'high', 'use', 'spanish', 'end']\n",
      "Topic: 2 \n",
      "Words: ['play', 'first', 'film', 'title', 'write', 'year', 'man', 'star', 'novel', 'book', 'become', 'woman', 'show', 'hit', 'time', 'character', 'say', 'work', 'tv', 'base', 'movie', 'last', 'author', 'war', 'see', 'day', 'story', 'life', 'musical', 'take', 'old', 'begin', 'music', 'bear', 'go', 'die', 'series', 'actor', 'member', 'tell', 'child', 'game', 'record', 'president', 'include', 'get', 'love', 'new', 'hold', 'world']\n",
      "Topic: 3 \n",
      "Words: ['song', 'name', 'state', 'make', 'mile', 'run', 'create', 'city', 'river', 'open', 'nation', 'country', 'say', 'museum', 'tree', 'food', 'go', 'order', 'plant', 'law', 'main', 'half', 'discover', 'bear', 'sister', 'grow', 'official', 'italian', 'ship', 'let', 'call', 'good', 'brother', 'large', 'know', 'man', 'foot', 'really', 'walk', 'include', 'write', 'church', 'ancient', 'hot', 'perform', 'famous', 'great', 'many', 'border', 'lake']\n",
      "Topic: 4 \n",
      "Words: ['use', 'make', 'name', 'type', 'call', 'term', 'word', 'set', 'get', 'company', 'also', 'letter', 'come', 'wear', 'mean', 'know', 'look', 'back', 'blue', 'color', 'see', 'often', 'form', 'big', 'sell', 'late', 'go', 'say', 'introduce', 'sing', 'light', 'part', 'refer', 'short', 'add', 'give', 'actress', 'car', 'comedy', 'cover', 'cause', 'white', 'red', 'find', 'black', 'ride', 'cut', 'group', 'horse', 'season']\n",
      "Topic: 5 \n",
      "Words: ['make', 'call', 'serve', 'word', 'say', 'know', 'line', 'type', 'bird', 'find', 'give', 'classic', 'include', 'eat', 'love', 'body', 'mean', 'ask', 'use', 'common', 'speak', 'part', 'many', 'kid', 'take', 'south', 'fruit', 'nickname', 'phrase', 'fish', 'variety', 'animal', 'death', 'water', 'human', 'contain', 'get', 'come', 'language', 'green', 'well', 'poem', 'need', 'day', 'complete', 'also', 'buy', 'man', 'field', 'russian']\n",
      "Topic: 6 \n",
      "Words: ['com', 'medium', 'archive', 'www', 'http', 'jpg', 'target', 'see', 'clue_crew', 'href', 'report', 'national', 'stand', 'show', 'act', 'guy', 'read', 'mp', 'wmv', 'hear', 'control', 'list', 'deliver', 'represent', 'sitcom', 'catch', 'shoot', 'clue', 'pay', 'monitor', 'fame', 'stone', 'name', 'far', 'type', 'baseball', 'practice', 'cheryl', 'tool', 'folk', 'moon', 'worker', 'master', 'sarah', 'sofia', 'pull', 'around', 'studio', 'gun', 'apple']\n"
     ]
    }
   ],
   "source": [
    "doc_lda = lda_model[corpus]\n",
    "for index, topics in lda_model.show_topics(formatted=False, num_words=50):\n",
    "        print('Topic: {} \\nWords: {}'.format(index+1,[w[0] for w in topics] ))\n"
   ]
  },
  {
   "cell_type": "code",
   "execution_count": 84,
   "id": "560d7996-4764-4b00-8c0b-5fa59bd2083c",
   "metadata": {},
   "outputs": [
    {
     "name": "stdout",
     "output_type": "stream",
     "text": [
      "The proportion of topic 1 is 3.2206781208515167\n",
      "The proportion of topic 2 is 3.220515325665474\n",
      "The proportion of topic 3 is 3.2211963087320328\n",
      "The proportion of topic 4 is 3.220806270837784\n",
      "The proportion of topic 5 is 83.8956892490387\n",
      "The proportion of topic 6 is 3.221116214990616\n"
     ]
    }
   ],
   "source": [
    "report=\"This chilled leek & potato soup is traditionally topped with chopped chives\"\n",
    "report = report.split(\" \")\n",
    "\n",
    "for index, proportion in lda_model[dictionary.doc2bow(report)]:\n",
    "    print('The proportion of topic {} is {} percent'.format(index+1, proportion*100))\n"
   ]
  },
  {
   "cell_type": "code",
   "execution_count": 76,
   "id": "e2b274af-d370-4042-a0de-0450343bba53",
   "metadata": {},
   "outputs": [
    {
     "name": "stderr",
     "output_type": "stream",
     "text": [
      "C:\\Users\\enala_culjkpz\\AppData\\Roaming\\Python\\Python38\\site-packages\\pyLDAvis\\_prepare.py:247: FutureWarning: In a future version of pandas all arguments of DataFrame.drop except for the argument 'labels' will be keyword-only\n",
      "  default_term_info = default_term_info.sort_values(\n"
     ]
    },
    {
     "data": {
      "text/html": [
       "\n",
       "<link rel=\"stylesheet\" type=\"text/css\" href=\"https://cdn.jsdelivr.net/gh/bmabey/pyLDAvis@3.2.2/pyLDAvis/js/ldavis.v1.0.0.css\">\n",
       "\n",
       "\n",
       "<div id=\"ldavis_el576822102641846407738484816\"></div>\n",
       "<script type=\"text/javascript\">\n",
       "\n",
       "var ldavis_el576822102641846407738484816_data = {\"mdsDat\": {\"x\": [-0.07727907829624817, -0.13146645862800604, -0.051129063669841206, 0.41659343089194373, -0.07693204122209292, -0.07978678907575586], \"y\": [0.25950132189361597, 0.0419074509178312, -0.2320035694616366, 0.017495708776583487, -0.18244001147692954, 0.09553909935053563], \"topics\": [1, 2, 3, 4, 5, 6], \"cluster\": [1, 1, 1, 1, 1, 1], \"Freq\": [21.27330398317684, 18.77174045783191, 17.459512114624804, 14.786468645868087, 13.953720989019228, 13.755253809479129]}, \"tinfo\": {\"Term\": [\"com\", \"medium\", \"archive\", \"www\", \"http\", \"jpg\", \"target\", \"name\", \"play\", \"br\", \"first\", \"clue_crew\", \"film\", \"city\", \"title\", \"country\", \"make\", \"see\", \"type\", \"use\", \"href\", \"state\", \"song\", \"star\", \"write\", \"novel\", \"book\", \"become\", \"island\", \"capital\", \"story\", \"series\", \"actor\", \"film\", \"base\", \"win\", \"major\", \"girl\", \"tv\", \"publish\", \"co\", \"mother\", \"role\", \"describe\", \"opera\", \"lady\", \"host\", \"direct\", \"record\", \"play\", \"accord\", \"director\", \"office\", \"tale\", \"general\", \"marry\", \"movie\", \"double\", \"away\", \"throw\", \"novel\", \"star\", \"book\", \"member\", \"friend\", \"music\", \"war\", \"title\", \"musical\", \"join\", \"singer\", \"author\", \"hit\", \"woman\", \"character\", \"write\", \"child\", \"first\", \"year\", \"show\", \"man\", \"become\", \"work\", \"time\", \"last\", \"life\", \"say\", \"day\", \"see\", \"take\", \"br\", \"island\", \"found\", \"son\", \"share\", \"person\", \"sea\", \"originally\", \"visit\", \"rule\", \"region\", \"blood\", \"dead\", \"hour\", \"pound\", \"arm\", \"native\", \"real\", \"club\", \"street\", \"always\", \"claim\", \"captain\", \"almost\", \"bone\", \"statue\", \"news\", \"port\", \"branch\", \"receive\", \"capital\", \"latin\", \"locate\", \"mountain\", \"honor\", \"spanish\", \"english\", \"send\", \"lie\", \"city\", \"country\", \"area\", \"university\", \"name\", \"large\", \"people\", \"king\", \"good\", \"world\", \"state\", \"group\", \"first\", \"mean\", \"word\", \"become\", \"land\", \"know\", \"old\", \"bear\", \"find\", \"call\", \"new\", \"give\", \"year\", \"come\", \"letter\", \"long\", \"blue\", \"late\", \"sing\", \"color\", \"wear\", \"cut\", \"actress\", \"horse\", \"season\", \"piece\", \"comedy\", \"center\", \"element\", \"female\", \"usually\", \"coin\", \"system\", \"metal\", \"favorite\", \"continent\", \"wine\", \"feel\", \"emperor\", \"hope\", \"free\", \"precede\", \"radio\", \"boat\", \"probably\", \"male\", \"introduce\", \"ride\", \"party\", \"invent\", \"kind\", \"ball\", \"do\", \"set\", \"process\", \"drive\", \"term\", \"use\", \"sell\", \"type\", \"white\", \"make\", \"company\", \"look\", \"light\", \"car\", \"back\", \"letter\", \"name\", \"call\", \"often\", \"also\", \"get\", \"word\", \"come\", \"form\", \"mean\", \"big\", \"add\", \"know\", \"see\", \"go\", \"say\", \"com\", \"medium\", \"archive\", \"www\", \"http\", \"jpg\", \"target\", \"clue_crew\", \"href\", \"report\", \"national\", \"act\", \"guy\", \"mp\", \"wmv\", \"control\", \"list\", \"deliver\", \"represent\", \"sitcom\", \"catch\", \"shoot\", \"clue\", \"pay\", \"monitor\", \"fame\", \"stone\", \"far\", \"baseball\", \"practice\", \"see\", \"read\", \"stand\", \"hear\", \"show\", \"serve\", \"eat\", \"kid\", \"phrase\", \"fruit\", \"fish\", \"variety\", \"human\", \"contain\", \"complete\", \"south\", \"buy\", \"celebrate\", \"field\", \"pair\", \"single\", \"russian\", \"poem\", \"spend\", \"baby\", \"indian\", \"dish\", \"release\", \"planet\", \"ask\", \"court\", \"equal\", \"hair\", \"sun\", \"beat\", \"green\", \"speak\", \"common\", \"example\", \"classic\", \"bird\", \"line\", \"body\", \"voice\", \"language\", \"need\", \"make\", \"love\", \"word\", \"say\", \"know\", \"find\", \"call\", \"type\", \"give\", \"include\", \"many\", \"mean\", \"nickname\", \"part\", \"use\", \"take\", \"mile\", \"nation\", \"song\", \"food\", \"order\", \"main\", \"plant\", \"sister\", \"official\", \"let\", \"discover\", \"walk\", \"church\", \"perform\", \"lake\", \"specie\", \"roman\", \"elect\", \"talk\", \"doctor\", \"hot\", \"egg\", \"half\", \"hang\", \"crime\", \"strike\", \"race\", \"future\", \"scottish\", \"degree\", \"museum\", \"tree\", \"grow\", \"army\", \"watch\", \"border\", \"student\", \"create\", \"law\", \"open\", \"run\", \"really\", \"state\", \"river\", \"ship\", \"italian\", \"name\", \"make\", \"city\", \"country\", \"say\", \"go\", \"brother\", \"bear\"], \"Freq\": [13944.0, 13914.0, 13812.0, 13810.0, 13543.0, 11387.0, 11310.0, 16736.0, 6485.0, 4966.0, 9266.0, 3872.0, 4756.0, 5895.0, 4505.0, 5470.0, 8198.0, 7307.0, 5358.0, 6974.0, 2293.0, 4981.0, 2134.0, 2718.0, 4577.0, 2564.0, 2577.0, 4098.0, 2165.0, 2111.0, 1423.1918982672814, 1137.647689960828, 1130.5207490040375, 4752.657221449413, 1870.3795294314882, 945.2671419502095, 933.6511546367361, 979.7227700349385, 1906.8342461131062, 862.9452438569582, 832.7039414082575, 739.781331140463, 959.2569465628687, 837.0097067383438, 682.2322267648093, 664.8516562203653, 881.583946941535, 653.729081780173, 1067.3032538134905, 6476.500290069287, 666.9618647968565, 618.4885182250744, 602.0473800864951, 590.0908702813134, 566.1534846031336, 957.3512389126934, 1748.6749031941044, 560.4238439199657, 475.32458226425695, 462.682308223513, 2557.1545551696195, 2705.153247809201, 2551.2788519590467, 1111.1432319346004, 859.9713117281746, 1212.5920916252103, 1586.4346455543437, 4391.247386683827, 1261.1135009351576, 865.974669035796, 921.6184004600082, 1677.2587617013278, 2160.3381462770003, 2444.4379287281204, 2021.3551664884571, 3598.527359285248, 1092.4744059639868, 6229.328220550308, 3571.2855599485893, 2292.381884158635, 3243.101937878955, 2492.4870111850123, 1917.146046340684, 2147.7465121546716, 1701.3438164608342, 1332.2134190642957, 1934.0684143186363, 1443.7747993564137, 1449.5952103361724, 1246.6332287980742, 4965.551761457994, 2164.810871230168, 1718.1118224470636, 965.1015635564124, 957.6537736710231, 1157.9694803386271, 973.5537489370998, 765.8864153967123, 700.9143602888996, 743.012790602854, 615.1320503849796, 603.0888734881103, 544.1093452794681, 541.7105270331994, 528.0540797430352, 526.2382645277352, 523.2595738645443, 748.325915185692, 503.7558483533405, 496.4003229800458, 486.22656568050326, 461.60168720253523, 447.09899949462294, 440.7173313626233, 439.36162780991003, 432.4654757468326, 429.0046409863487, 419.2753718132539, 411.6469514041866, 647.9285403432194, 2104.1572914611725, 897.9345345245066, 536.5010080548517, 774.0912822677071, 764.7048744009202, 822.8150369956008, 737.9027424557273, 663.6357170385684, 852.0133881867218, 4710.18816434713, 4270.675942187933, 965.9198942545929, 764.0297840624255, 10330.239093418748, 2397.483777730245, 1761.9502244209214, 1430.921694118743, 1744.662737382053, 2039.3207387802133, 2596.197436960571, 1319.1161254171839, 2978.6743603705313, 1810.559327792877, 1857.7438245689962, 1605.1061062700005, 877.3349168923743, 1801.3077135346687, 1319.8620385149625, 1369.1659019325364, 1256.4039011056027, 1635.9498609495374, 1089.665624930427, 1173.7017019463499, 1276.600496480359, 1184.0707682146765, 1048.900540859437, 1004.330992835191, 1079.5175834818626, 931.1080642168338, 865.0204957281071, 1073.2891422743335, 1228.2743176047159, 725.019289684653, 768.983118555252, 707.6988171242396, 679.0398016496981, 644.4373138707189, 756.80994144491, 615.6563886225204, 598.2232360504931, 658.9039769707363, 560.9691145511171, 561.6764549458153, 566.9925231875383, 512.4384763361072, 508.5871933063022, 469.9883833796924, 453.7893818466168, 458.31924467332396, 448.2208136861339, 441.3409600467651, 576.9263292820904, 442.378346843106, 439.63559669206, 433.29126153792, 431.7915625535103, 427.15965042325735, 892.1220987359375, 725.4186966492709, 598.1373113609935, 540.5557926811944, 559.2919898731401, 524.9683178225564, 514.4681998997675, 1794.7065722605935, 586.2975594044708, 534.6939048805333, 2339.1508966541255, 4642.251661304005, 931.2100311117899, 3521.6473525732877, 751.7384069582783, 4403.1511594688445, 1624.84917369088, 1158.8640897194105, 860.374244503251, 757.3410373358263, 1116.0624966585078, 1577.5658718891693, 3956.488692213438, 2347.7758895274815, 1019.2456990445199, 1610.7168697086981, 1702.3318173862506, 1854.1717315440915, 1251.9710723825328, 991.8075942955224, 1205.2506761873528, 931.4769250642128, 797.4035886322182, 1185.975746575181, 1054.8497258833322, 921.899728406708, 895.5488127117443, 13944.127096451393, 13913.461850860613, 13811.326750985083, 13809.476056662432, 13542.526428435907, 11386.168275000986, 11309.671172622568, 3871.5546282561227, 2293.0586547967955, 1509.0229111484061, 979.0977899747994, 769.2790899051938, 765.879248673031, 727.0095032988421, 697.6791900997347, 649.0305799030292, 637.1930409805514, 629.1154693475906, 615.0767413233846, 614.7610028963553, 577.6598300759255, 549.3388469236124, 523.6650229324257, 518.486047309938, 471.9565509739823, 468.8655620375196, 451.26335410625217, 410.45050997143886, 394.12558634591966, 392.69657451135583, 4248.824919280427, 753.1014736566235, 862.5364310761364, 656.6337529209014, 839.2306918155838, 1547.3651081263333, 1023.6377570193308, 840.4829659396992, 775.3648277373625, 793.3673602100106, 768.3178424157115, 756.7199278832485, 735.596886196603, 730.573775248246, 675.4591369014638, 793.7980932251972, 647.1570359981947, 612.74370736957, 637.9057162938291, 598.8351143807142, 551.3161739438387, 637.4620744604503, 708.3005754236989, 542.3804177644625, 563.0044502036467, 502.8164706771747, 487.25708572379585, 476.2340965838766, 491.93618105808696, 914.3807689993947, 432.7779651814797, 428.2125025733153, 421.0369998678263, 417.79271528483685, 413.3800948403692, 713.7329925053455, 870.0828860542717, 884.2897869029824, 490.79489224424935, 1111.6833613723404, 1191.5854333780853, 1362.1456086566775, 986.5383404256645, 527.3902502227941, 720.3886737871042, 695.2271917533835, 2144.3570276808987, 1015.8543543550998, 1527.662738961541, 1525.3312483288794, 1521.402928104341, 1149.1429954641303, 1581.518328459141, 1355.2130463969609, 1126.8058223467058, 1036.4883538069696, 860.1471355404535, 933.3431204029276, 788.0159964561963, 862.8889860874816, 907.1575387926307, 805.3085439282767, 1437.640971315688, 1132.5172009741302, 2133.0919497100203, 932.2846771848562, 850.8495472534076, 764.6428087412096, 819.6749397509597, 695.7158272986121, 685.1185383335627, 660.9429710693317, 722.3716424402645, 583.2159422129853, 569.1586938247763, 558.2069600685605, 532.3683286681734, 518.849607828101, 508.35472652893264, 505.6207534877773, 495.7333496149148, 491.69655715574675, 560.7218776587338, 481.78378942311826, 728.8933573448654, 468.0667024238183, 460.80532369747584, 459.44796765266256, 459.9339063106701, 492.365453211759, 448.81393138907845, 439.8227028002676, 1031.1470294934522, 941.6753649234623, 686.4192801657925, 531.8728677419942, 466.870965239698, 534.8897387139181, 530.232786898561, 1333.904516194387, 767.1688067888915, 1173.2124318926885, 1420.4840947885373, 585.9762313407238, 1906.8991259029494, 1176.2325490923981, 667.18988197111, 667.7496614904842, 1913.8469190251888, 1452.0508466075032, 1180.3762073702728, 1119.2751885905147, 1072.7705949926597, 903.8298891704176, 638.3779223341652, 709.7509580548409], \"Total\": [13944.0, 13914.0, 13812.0, 13810.0, 13543.0, 11387.0, 11310.0, 16736.0, 6485.0, 4966.0, 9266.0, 3872.0, 4756.0, 5895.0, 4505.0, 5470.0, 8198.0, 7307.0, 5358.0, 6974.0, 2293.0, 4981.0, 2134.0, 2718.0, 4577.0, 2564.0, 2577.0, 4098.0, 2165.0, 2111.0, 1424.0556843128154, 1138.5178757628123, 1131.3855862765777, 4756.293020334468, 1871.9891516499288, 946.1307052409774, 934.517242966417, 980.6324487816096, 1908.7614173630384, 863.8284305692742, 833.5675797510271, 740.6458518828617, 960.4639100581144, 838.06354880821, 683.094299278682, 665.7165027607998, 882.7415116110192, 654.5921108153472, 1068.7322479376287, 6485.22722350294, 667.8735594561705, 619.3519951523126, 602.913762065815, 590.9536730687024, 567.0209710350575, 958.8227474823941, 1751.5461750828367, 561.3664554846279, 476.1903350291779, 463.5539928685489, 2564.6976499757748, 2718.90536260809, 2577.622715619698, 1114.3053343647116, 861.9824301284884, 1221.224988950983, 1602.7122168309822, 4505.476554980539, 1272.2849341074968, 869.9267933878228, 929.5534953391543, 1756.6745188644904, 2357.752171246353, 2739.6011609412553, 2228.133398381606, 4577.144398116487, 1140.1574400015772, 9266.38461303818, 5496.204914024026, 3362.592158499087, 5751.023891442213, 4098.297962453175, 3046.505206772795, 3702.1523205792732, 2909.1868510066483, 1795.0438254486305, 5924.1734290393815, 2757.6836766549295, 7307.7421572529065, 3655.784986840621, 4966.482242096918, 2165.7088074847784, 1719.3760911101347, 965.9623626692031, 958.5380895289367, 1159.2050878981222, 974.6117325781715, 766.7518130566348, 701.7750195964551, 743.98202835743, 615.991998462943, 603.9570997279565, 544.9722610411372, 542.5731131881589, 528.9164413151057, 527.0997202257232, 524.1195570425604, 749.5960722157195, 504.6213141929304, 497.26146457710803, 487.0879714631827, 462.46235728348495, 447.9617891408181, 441.578152393269, 440.2239321934365, 433.3323204691708, 429.86894889226744, 420.13584687225466, 412.5104653519136, 649.29191863838, 2111.1918490627013, 904.7261384728283, 538.6184597006505, 785.1278299027452, 775.6216137776275, 840.6432143830297, 753.5227956719096, 679.9779109043528, 894.6626555448781, 5895.242291970463, 5470.775742827753, 1040.3862932058746, 803.931802190724, 16736.571069062513, 3073.4864812790865, 2227.3219089080785, 1838.654457473884, 2484.1408979294547, 3207.9891437295782, 4981.416255643044, 2058.019388913517, 9266.38461303818, 3958.9849130573357, 5293.268509381712, 4098.297962453175, 1083.7062529573043, 6192.211268354838, 2933.430615239584, 3254.468750837309, 3145.1822740914504, 7188.198658539455, 2187.7776895862485, 3363.291830038049, 5496.204914024026, 3860.2846802066783, 3086.5213272565616, 2579.58818709725, 1080.3739734863336, 931.9649410478662, 865.8774642599254, 1074.3814043485834, 1229.6929780582968, 725.8754914180872, 769.9154769571544, 708.5573142785314, 679.8965983635704, 645.2992649513922, 757.8481706785572, 616.5203926447163, 599.0784044523641, 659.9022551789033, 561.8232440855106, 562.5323695867053, 567.8579946723302, 513.2945265379946, 509.44364213473403, 470.84664961797165, 454.64670787763646, 459.18722091761174, 449.0776616751841, 442.197572542731, 578.0470878459007, 443.24028858667026, 440.49455201017395, 434.1496948373028, 432.6475848102364, 428.0138171116469, 894.5754848619557, 727.1272241938099, 599.4765612401668, 541.7280394475123, 561.5023782147739, 526.768603952304, 516.3434381004416, 1871.6049994210923, 590.6866977272575, 537.7362974159872, 2903.2834478821355, 6974.328274525269, 1055.9056868196808, 5358.48611065706, 817.4164220687379, 8198.19561554032, 2299.4970503522018, 1473.526898542154, 1004.3538472935769, 886.6075883670005, 1694.1719027215624, 3086.5213272565616, 16736.571069062513, 7188.198658539455, 1584.8424710785562, 3862.864673666965, 4386.821657346604, 5293.268509381712, 3860.2846802066783, 1969.3286387961061, 3958.9849130573357, 1756.3783042666116, 1041.351343040605, 6192.211268354838, 7307.7421572529065, 4099.435591156056, 5924.1734290393815, 13944.971523338107, 13914.306285138255, 13812.171128805905, 13810.320434183974, 13543.37079753079, 11387.012537604971, 11310.51548415805, 3872.400107210207, 2293.902796091454, 1509.8697198085893, 979.95791993392, 770.1289428611558, 766.7298838465406, 727.8538398758618, 698.5239363449587, 649.8834231496577, 638.0428935699921, 629.9619673072582, 615.9249979144586, 615.612013523712, 578.5109165266572, 550.1872386208304, 524.5163744368531, 519.3402271754882, 472.8012867476753, 469.71439271369377, 452.1128650713092, 411.30320015633066, 394.9757927300571, 393.5466785317931, 7307.7421572529065, 944.3937396382695, 1639.15642175884, 1411.3052308425738, 3362.592158499087, 1548.2196062200187, 1024.4924956121745, 841.3381231893713, 776.2191565086789, 794.2426837049958, 769.1749951217296, 757.5756601482952, 736.4545311031499, 731.4613568808384, 676.3130400685781, 794.810009247944, 648.0121369080443, 613.598243586228, 638.8051446554086, 599.6900833238287, 552.1715452503047, 638.4589185706283, 709.4111769833734, 543.2349100929604, 563.8921061222464, 503.6729000959503, 488.11236014317666, 477.08830216749976, 492.8195422196965, 916.0620373752155, 433.63194031769336, 429.0672717911472, 421.89240409626547, 418.65118053889233, 414.23888122336155, 715.2923171394395, 876.2559250657714, 891.9358559298406, 492.3422742756937, 1145.0410948574565, 1336.163664204385, 1753.7548565225902, 1482.463758742889, 557.2783882984717, 992.7084462581415, 939.0517583718683, 8198.19561554032, 2036.126599943868, 5293.268509381712, 5924.1734290393815, 6192.211268354838, 3145.1822740914504, 7188.198658539455, 5358.48611065706, 3363.291830038049, 3555.5316103142045, 2052.9763403149245, 3958.9849130573357, 1478.1585446340873, 3107.1133765377845, 6974.328274525269, 3655.784986840621, 1438.5285383648695, 1133.369186801485, 2134.7186009531665, 933.1388963174713, 851.7379621737493, 765.5248093509662, 820.641007726851, 696.5707337684995, 685.9764041613178, 661.7956443357184, 723.3278430450222, 584.0698090925341, 570.0136917115174, 559.0695265547989, 533.2202312139506, 519.7047342606805, 509.20892911506553, 506.47266305749883, 496.58798916657696, 492.5494039857081, 561.7030471658318, 482.6374042804838, 730.2184269252335, 468.91992436688844, 461.65928127305943, 460.30121726426523, 460.7882072424049, 493.2829244645477, 449.66811203482393, 440.67726882817954, 1033.9448318120674, 944.0829301856462, 689.215078897769, 534.141437509076, 467.9129988505648, 538.8098739740909, 535.2877240682743, 1448.9392775402162, 810.9377732501658, 1343.721041009036, 1691.3218040268564, 617.4110814239029, 4981.416255643044, 2170.548650776034, 875.3978238689946, 964.4537751607172, 16736.571069062513, 8198.19561554032, 5895.242291970463, 5470.775742827753, 5924.1734290393815, 4099.435591156056, 1135.6436531603824, 3254.468750837309], \"Category\": [\"Default\", \"Default\", \"Default\", \"Default\", \"Default\", \"Default\", \"Default\", \"Default\", \"Default\", \"Default\", \"Default\", \"Default\", \"Default\", \"Default\", \"Default\", \"Default\", \"Default\", \"Default\", \"Default\", \"Default\", \"Default\", \"Default\", \"Default\", \"Default\", \"Default\", \"Default\", \"Default\", \"Default\", \"Default\", \"Default\", \"Topic1\", \"Topic1\", \"Topic1\", \"Topic1\", \"Topic1\", \"Topic1\", \"Topic1\", \"Topic1\", \"Topic1\", \"Topic1\", \"Topic1\", \"Topic1\", \"Topic1\", \"Topic1\", \"Topic1\", \"Topic1\", \"Topic1\", \"Topic1\", \"Topic1\", \"Topic1\", \"Topic1\", \"Topic1\", \"Topic1\", \"Topic1\", \"Topic1\", \"Topic1\", \"Topic1\", \"Topic1\", \"Topic1\", \"Topic1\", \"Topic1\", \"Topic1\", \"Topic1\", \"Topic1\", \"Topic1\", \"Topic1\", \"Topic1\", \"Topic1\", \"Topic1\", \"Topic1\", \"Topic1\", \"Topic1\", \"Topic1\", \"Topic1\", \"Topic1\", \"Topic1\", \"Topic1\", \"Topic1\", \"Topic1\", \"Topic1\", \"Topic1\", \"Topic1\", \"Topic1\", \"Topic1\", \"Topic1\", \"Topic1\", \"Topic1\", \"Topic1\", \"Topic1\", \"Topic1\", \"Topic2\", \"Topic2\", \"Topic2\", \"Topic2\", \"Topic2\", \"Topic2\", \"Topic2\", \"Topic2\", \"Topic2\", \"Topic2\", \"Topic2\", \"Topic2\", \"Topic2\", \"Topic2\", \"Topic2\", \"Topic2\", \"Topic2\", \"Topic2\", \"Topic2\", \"Topic2\", \"Topic2\", \"Topic2\", \"Topic2\", \"Topic2\", \"Topic2\", \"Topic2\", \"Topic2\", \"Topic2\", \"Topic2\", \"Topic2\", \"Topic2\", \"Topic2\", \"Topic2\", \"Topic2\", \"Topic2\", \"Topic2\", \"Topic2\", \"Topic2\", \"Topic2\", \"Topic2\", \"Topic2\", \"Topic2\", \"Topic2\", \"Topic2\", \"Topic2\", \"Topic2\", \"Topic2\", \"Topic2\", \"Topic2\", \"Topic2\", \"Topic2\", \"Topic2\", \"Topic2\", \"Topic2\", \"Topic2\", \"Topic2\", \"Topic2\", \"Topic2\", \"Topic2\", \"Topic2\", \"Topic2\", \"Topic2\", \"Topic2\", \"Topic2\", \"Topic2\", \"Topic2\", \"Topic2\", \"Topic3\", \"Topic3\", \"Topic3\", \"Topic3\", \"Topic3\", \"Topic3\", \"Topic3\", \"Topic3\", \"Topic3\", \"Topic3\", \"Topic3\", \"Topic3\", \"Topic3\", \"Topic3\", \"Topic3\", \"Topic3\", \"Topic3\", \"Topic3\", \"Topic3\", \"Topic3\", \"Topic3\", \"Topic3\", \"Topic3\", \"Topic3\", \"Topic3\", \"Topic3\", \"Topic3\", \"Topic3\", \"Topic3\", \"Topic3\", \"Topic3\", \"Topic3\", \"Topic3\", \"Topic3\", \"Topic3\", \"Topic3\", \"Topic3\", \"Topic3\", \"Topic3\", \"Topic3\", \"Topic3\", \"Topic3\", \"Topic3\", \"Topic3\", \"Topic3\", \"Topic3\", \"Topic3\", \"Topic3\", \"Topic3\", \"Topic3\", \"Topic3\", \"Topic3\", \"Topic3\", \"Topic3\", \"Topic3\", \"Topic3\", \"Topic3\", \"Topic3\", \"Topic3\", \"Topic3\", \"Topic3\", \"Topic3\", \"Topic3\", \"Topic3\", \"Topic3\", \"Topic3\", \"Topic3\", \"Topic4\", \"Topic4\", \"Topic4\", \"Topic4\", \"Topic4\", \"Topic4\", \"Topic4\", \"Topic4\", \"Topic4\", \"Topic4\", \"Topic4\", \"Topic4\", \"Topic4\", \"Topic4\", \"Topic4\", \"Topic4\", \"Topic4\", \"Topic4\", \"Topic4\", \"Topic4\", \"Topic4\", \"Topic4\", \"Topic4\", \"Topic4\", \"Topic4\", \"Topic4\", \"Topic4\", \"Topic4\", \"Topic4\", \"Topic4\", \"Topic4\", \"Topic4\", \"Topic4\", \"Topic4\", \"Topic4\", \"Topic5\", \"Topic5\", \"Topic5\", \"Topic5\", \"Topic5\", \"Topic5\", \"Topic5\", \"Topic5\", \"Topic5\", \"Topic5\", \"Topic5\", \"Topic5\", \"Topic5\", \"Topic5\", \"Topic5\", \"Topic5\", \"Topic5\", \"Topic5\", \"Topic5\", \"Topic5\", \"Topic5\", \"Topic5\", \"Topic5\", \"Topic5\", \"Topic5\", \"Topic5\", \"Topic5\", \"Topic5\", \"Topic5\", \"Topic5\", \"Topic5\", \"Topic5\", \"Topic5\", \"Topic5\", \"Topic5\", \"Topic5\", \"Topic5\", \"Topic5\", \"Topic5\", \"Topic5\", \"Topic5\", \"Topic5\", \"Topic5\", \"Topic5\", \"Topic5\", \"Topic5\", \"Topic5\", \"Topic5\", \"Topic5\", \"Topic5\", \"Topic5\", \"Topic5\", \"Topic5\", \"Topic5\", \"Topic5\", \"Topic5\", \"Topic5\", \"Topic6\", \"Topic6\", \"Topic6\", \"Topic6\", \"Topic6\", \"Topic6\", \"Topic6\", \"Topic6\", \"Topic6\", \"Topic6\", \"Topic6\", \"Topic6\", \"Topic6\", \"Topic6\", \"Topic6\", \"Topic6\", \"Topic6\", \"Topic6\", \"Topic6\", \"Topic6\", \"Topic6\", \"Topic6\", \"Topic6\", \"Topic6\", \"Topic6\", \"Topic6\", \"Topic6\", \"Topic6\", \"Topic6\", \"Topic6\", \"Topic6\", \"Topic6\", \"Topic6\", \"Topic6\", \"Topic6\", \"Topic6\", \"Topic6\", \"Topic6\", \"Topic6\", \"Topic6\", \"Topic6\", \"Topic6\", \"Topic6\", \"Topic6\", \"Topic6\", \"Topic6\", \"Topic6\", \"Topic6\", \"Topic6\", \"Topic6\", \"Topic6\", \"Topic6\", \"Topic6\", \"Topic6\"], \"logprob\": [30.0, 29.0, 28.0, 27.0, 26.0, 25.0, 24.0, 23.0, 22.0, 21.0, 20.0, 19.0, 18.0, 17.0, 16.0, 15.0, 14.0, 13.0, 12.0, 11.0, 10.0, 9.0, 8.0, 7.0, 6.0, 5.0, 4.0, 3.0, 2.0, 1.0, -5.3083, -5.5323, -5.5386, -4.1025, -5.0351, -5.7175, -5.7299, -5.6817, -5.0158, -5.8086, -5.8443, -5.9626, -5.7028, -5.8392, -6.0436, -6.0694, -5.7873, -6.0863, -5.5961, -3.7931, -6.0663, -6.1417, -6.1687, -6.1887, -6.2301, -5.7048, -5.1024, -6.2403, -6.405, -6.432, -4.7223, -4.6661, -4.7246, -5.5558, -5.8121, -5.4685, -5.1997, -4.1816, -5.4292, -5.8051, -5.7429, -5.1441, -4.891, -4.7674, -4.9575, -4.3807, -5.5728, -3.832, -4.3883, -4.8316, -4.4847, -4.748, -5.0104, -4.8968, -5.1298, -5.3744, -5.0016, -5.294, -5.29, -5.4408, -3.9336, -4.7638, -4.9949, -5.5717, -5.5794, -5.3895, -5.5629, -5.8029, -5.8915, -5.8332, -6.0221, -6.0418, -6.1447, -6.1492, -6.1747, -6.1781, -6.1838, -5.8261, -6.2218, -6.2365, -6.2572, -6.3092, -6.3411, -6.3555, -6.3586, -6.3744, -6.3824, -6.4054, -6.4237, -5.9701, -4.7922, -5.6438, -6.1588, -5.7922, -5.8044, -5.7312, -5.8401, -5.9462, -5.6963, -3.9864, -4.0844, -5.5708, -5.8053, -3.2011, -4.6617, -4.9697, -5.1778, -4.9796, -4.8235, -4.5821, -5.2592, -4.4447, -4.9425, -4.9168, -5.0629, -5.667, -4.9476, -5.2586, -5.2219, -5.3079, -5.0439, -5.4503, -5.376, -5.2919, -5.3672, -5.4884, -5.5318, -5.3872, -5.535, -5.6087, -5.3929, -5.2581, -5.7852, -5.7264, -5.8094, -5.8507, -5.903, -5.7423, -5.9487, -5.9775, -5.8808, -6.0418, -6.0405, -6.0311, -6.1322, -6.1398, -6.2187, -6.2538, -6.2439, -6.2661, -6.2816, -6.0137, -6.2793, -6.2855, -6.3, -6.3035, -6.3143, -5.5778, -5.7847, -5.9776, -6.0788, -6.0448, -6.1081, -6.1283, -4.8788, -5.9976, -6.0897, -4.6139, -3.9285, -5.5349, -4.2047, -5.749, -3.9813, -4.9783, -5.3162, -5.6141, -5.7416, -5.3539, -5.0078, -4.0883, -4.6102, -5.4446, -4.987, -4.9317, -4.8462, -5.2389, -5.4719, -5.277, -5.5347, -5.6901, -5.2931, -5.4103, -5.545, -5.574, -2.6624, -2.6646, -2.672, -2.6721, -2.6917, -2.8651, -2.8718, -3.9438, -4.4676, -4.886, -5.3186, -5.5598, -5.5642, -5.6163, -5.6575, -5.7298, -5.7482, -5.7609, -5.7835, -5.784, -5.8463, -5.8965, -5.9444, -5.9543, -6.0484, -6.0549, -6.0932, -6.188, -6.2286, -6.2322, -3.8509, -5.5811, -5.4454, -5.7181, -5.4728, -4.803, -5.2162, -5.4133, -5.494, -5.471, -5.5031, -5.5183, -5.5466, -5.5535, -5.6319, -5.4705, -5.6747, -5.7293, -5.6891, -5.7523, -5.835, -5.6898, -5.5844, -5.8513, -5.814, -5.9271, -5.9585, -5.9814, -5.9489, -5.329, -6.0771, -6.0877, -6.1046, -6.1123, -6.1229, -5.5768, -5.3787, -5.3625, -5.9513, -5.1337, -5.0642, -4.9305, -5.2531, -5.8793, -5.5675, -5.603, -4.4767, -5.2238, -4.8158, -4.8173, -4.8199, -5.1005, -4.7811, -4.9356, -5.1201, -5.2037, -5.3902, -5.3085, -5.4778, -5.387, -5.337, -5.4561, -4.8622, -5.1008, -4.4676, -5.2953, -5.3867, -5.4936, -5.4241, -5.588, -5.6034, -5.6393, -5.5504, -5.7644, -5.7888, -5.8082, -5.8556, -5.8813, -5.9018, -5.9072, -5.9269, -5.9351, -5.8037, -5.9555, -5.5414, -5.9843, -6.0, -6.0029, -6.0019, -5.9337, -6.0264, -6.0466, -5.1945, -5.2853, -5.6015, -5.8566, -5.9869, -5.8509, -5.8596, -4.9371, -5.4903, -5.0655, -4.8742, -5.7597, -4.5797, -5.0629, -5.6299, -5.629, -4.5761, -4.8522, -5.0594, -5.1125, -5.155, -5.3263, -5.674, -5.568], \"loglift\": [30.0, 29.0, 28.0, 27.0, 26.0, 25.0, 24.0, 23.0, 22.0, 21.0, 20.0, 19.0, 18.0, 17.0, 16.0, 15.0, 14.0, 13.0, 12.0, 11.0, 10.0, 9.0, 8.0, 7.0, 6.0, 5.0, 4.0, 3.0, 2.0, 1.0, 1.5471, 1.547, 1.547, 1.547, 1.5469, 1.5468, 1.5468, 1.5468, 1.5467, 1.5467, 1.5467, 1.5465, 1.5465, 1.5465, 1.5465, 1.5464, 1.5464, 1.5464, 1.5464, 1.5464, 1.5464, 1.5463, 1.5463, 1.5463, 1.5462, 1.5462, 1.5461, 1.546, 1.5459, 1.5458, 1.5448, 1.5426, 1.5374, 1.5449, 1.5454, 1.5406, 1.5375, 1.522, 1.5389, 1.5432, 1.5391, 1.5015, 1.4603, 1.4337, 1.4503, 1.3072, 1.505, 1.1506, 1.1166, 1.1646, 0.9749, 1.0504, 1.0846, 1.0032, 1.0113, 1.2495, 0.4283, 0.9006, -0.0699, 0.4719, 1.6726, 1.6724, 1.6721, 1.6719, 1.6719, 1.6718, 1.6717, 1.6717, 1.6716, 1.6715, 1.6714, 1.6714, 1.6712, 1.6712, 1.6712, 1.6712, 1.6712, 1.6711, 1.6711, 1.6711, 1.671, 1.671, 1.6709, 1.6709, 1.6709, 1.6708, 1.6708, 1.6708, 1.6707, 1.6707, 1.6695, 1.6653, 1.6689, 1.6587, 1.6586, 1.6514, 1.6519, 1.6485, 1.624, 1.4484, 1.4252, 1.5986, 1.6219, 1.1903, 1.4244, 1.4384, 1.4221, 1.3195, 1.2198, 1.0212, 1.228, 0.5379, 0.8905, 0.6257, 0.7354, 1.4616, 0.438, 0.8742, 0.807, 0.7552, 0.1926, 0.9758, 0.6201, 0.213, 0.491, 0.5935, 0.7295, 1.7445, 1.7444, 1.7443, 1.7443, 1.7441, 1.7441, 1.7441, 1.7441, 1.744, 1.7439, 1.7439, 1.7439, 1.7439, 1.7438, 1.7438, 1.7438, 1.7438, 1.7436, 1.7436, 1.7435, 1.7434, 1.7434, 1.7434, 1.7433, 1.7433, 1.7433, 1.7433, 1.7433, 1.7433, 1.7433, 1.7425, 1.7429, 1.743, 1.7431, 1.7413, 1.7419, 1.7416, 1.7033, 1.7378, 1.7396, 1.5292, 1.3382, 1.6196, 1.3255, 1.6615, 1.1237, 1.398, 1.5051, 1.5906, 1.5877, 1.3279, 1.0741, 0.303, 0.6263, 1.3039, 0.8706, 0.7987, 0.6963, 0.6193, 1.0594, 0.556, 1.111, 1.4784, 0.0926, -0.1903, 0.2531, -0.1441, 1.9114, 1.9114, 1.9114, 1.9114, 1.9114, 1.9114, 1.9114, 1.9112, 1.9111, 1.9109, 1.9106, 1.9104, 1.9103, 1.9103, 1.9102, 1.9101, 1.9101, 1.9101, 1.9101, 1.9101, 1.91, 1.9099, 1.9098, 1.9098, 1.9097, 1.9096, 1.9096, 1.9094, 1.9093, 1.9093, 1.3692, 1.6851, 1.2694, 1.1463, 0.5235, 1.9689, 1.9686, 1.9684, 1.9683, 1.9683, 1.9683, 1.9683, 1.9683, 1.9682, 1.9682, 1.9682, 1.9681, 1.968, 1.968, 1.968, 1.9679, 1.9679, 1.9679, 1.9678, 1.9678, 1.9677, 1.9677, 1.9676, 1.9676, 1.9676, 1.9675, 1.9674, 1.9674, 1.9674, 1.9673, 1.9672, 1.9624, 1.9608, 1.9663, 1.9399, 1.8549, 1.7167, 1.5622, 1.9143, 1.6488, 1.6688, 0.6283, 1.2741, 0.7267, 0.6126, 0.5658, 0.9626, 0.4554, 0.5947, 0.8759, 0.7368, 1.0995, 0.5245, 1.3404, 0.6883, -0.0703, 0.4566, 1.9831, 1.983, 1.983, 1.9828, 1.9827, 1.9826, 1.9826, 1.9825, 1.9825, 1.9825, 1.9824, 1.9823, 1.9822, 1.9822, 1.9822, 1.9821, 1.9821, 1.9821, 1.982, 1.982, 1.982, 1.982, 1.9819, 1.9819, 1.9819, 1.9819, 1.9819, 1.9819, 1.9818, 1.9818, 1.981, 1.9812, 1.9797, 1.9795, 1.9815, 1.9764, 1.9743, 1.901, 1.9283, 1.8481, 1.8092, 1.9315, 1.0235, 1.3711, 1.7121, 1.6161, -0.1847, 0.2528, 0.3754, 0.397, 0.275, 0.4718, 1.4077, 0.4609]}, \"token.table\": {\"Topic\": [1, 4, 1, 3, 2, 3, 4, 2, 1, 2, 3, 4, 5, 6, 2, 4, 2, 3, 4, 2, 3, 6, 5, 6, 1, 6, 1, 5, 1, 3, 5, 3, 4, 1, 4, 4, 1, 2, 6, 5, 1, 2, 1, 3, 4, 6, 3, 4, 5, 2, 3, 3, 1, 2, 3, 5, 2, 1, 2, 5, 5, 6, 2, 2, 3, 5, 6, 5, 1, 2, 3, 4, 5, 6, 2, 6, 2, 3, 4, 5, 6, 4, 5, 3, 1, 2, 4, 6, 1, 2, 6, 1, 2, 6, 2, 3, 4, 5, 2, 4, 4, 1, 3, 3, 4, 1, 2, 3, 4, 5, 6, 3, 4, 5, 1, 2, 3, 4, 5, 5, 5, 3, 4, 1, 2, 4, 5, 6, 5, 3, 4, 6, 6, 3, 1, 2, 3, 4, 5, 2, 6, 4, 1, 1, 1, 6, 5, 3, 4, 6, 1, 2, 3, 4, 5, 6, 6, 3, 3, 2, 6, 5, 4, 5, 4, 4, 3, 3, 3, 5, 1, 3, 5, 2, 3, 4, 5, 6, 1, 2, 3, 4, 5, 6, 5, 6, 2, 3, 4, 5, 2, 3, 1, 4, 5, 6, 1, 1, 2, 3, 4, 5, 6, 1, 2, 3, 4, 5, 6, 1, 2, 3, 4, 5, 6, 2, 3, 4, 5, 6, 1, 5, 2, 3, 4, 2, 6, 4, 5, 5, 6, 6, 1, 2, 3, 4, 6, 1, 2, 3, 4, 5, 6, 2, 4, 5, 3, 3, 1, 6, 2, 4, 4, 5, 1, 2, 3, 4, 5, 6, 5, 1, 3, 3, 2, 1, 3, 4, 6, 1, 5, 4, 5, 2, 3, 1, 2, 6, 1, 2, 3, 4, 5, 6, 1, 6, 2, 3, 6, 5, 6, 2, 5, 6, 1, 2, 3, 4, 5, 6, 3, 2, 4, 3, 5, 6, 6, 2, 3, 4, 5, 2, 5, 1, 2, 3, 4, 5, 6, 1, 2, 3, 4, 5, 3, 4, 5, 6, 4, 2, 6, 1, 2, 3, 4, 5, 3, 4, 1, 4, 5, 6, 1, 1, 2, 3, 4, 5, 6, 3, 1, 2, 3, 4, 5, 6, 2, 3, 4, 5, 6, 1, 2, 2, 3, 4, 5, 6, 4, 1, 4, 3, 6, 4, 1, 1, 2, 1, 4, 5, 4, 3, 6, 1, 3, 6, 1, 5, 1, 2, 3, 4, 5, 6, 6, 4, 2, 2, 3, 4, 5, 1, 2, 3, 4, 5, 2, 1, 2, 3, 5, 1, 6, 1, 6, 1, 2, 3, 4, 5, 6, 1, 2, 3, 4, 5, 6, 3, 4, 5, 6, 1, 6, 2, 5, 1, 2, 3, 4, 5, 6, 3, 4, 4, 1, 2, 3, 4, 6, 2, 3, 5, 3, 5, 6, 1, 4, 5, 6, 5, 2, 2, 4, 3, 3, 3, 4, 1, 6, 3, 4, 5, 6, 2, 4, 2, 4, 6, 1, 2, 1, 3, 2, 5, 4, 4, 3, 6, 2, 6, 1, 5, 6, 2, 3, 6, 5, 1, 2, 3, 4, 5, 6, 6, 2, 3, 1, 2, 3, 4, 5, 6, 2, 3, 4, 5, 2, 4, 1, 5, 3, 4, 2, 1, 5, 6, 4, 1, 3, 4, 6, 3, 1, 3, 5, 6, 5, 6, 4, 2, 4, 6, 5, 1, 2, 6, 1, 2, 5, 6, 5, 2, 4, 5, 6, 1, 3, 4, 5, 1, 2, 5, 6, 2, 4, 1, 2, 6, 5, 6, 5, 3, 1, 2, 3, 4, 5, 6, 1, 6, 4, 1, 2, 3, 5, 6, 1, 1, 2, 3, 4, 5, 6, 1, 4, 5, 6, 4, 6, 1, 4, 1, 2, 3, 4, 5, 6, 1, 2, 6, 1, 2, 3, 4, 5, 6, 3, 5, 2, 2, 4, 5, 6, 1, 3, 6, 3, 4, 3, 6, 1, 3, 4, 1, 2, 4, 1, 2, 3, 4, 5, 6, 1, 2, 3, 4, 5, 6, 1, 2, 3, 4, 5, 6, 1, 5, 6, 4, 1, 2, 3, 4, 5, 6], \"Freq\": [0.9986920286874632, 0.9985340859194805, 0.9996591911004924, 0.998810938363296, 0.22758889358897075, 0.7653516801283109, 0.006722034831741752, 0.9986907133196342, 0.0926773341143622, 0.24903797602797886, 0.4170480035146299, 0.012684886512859631, 0.174481908360559, 0.05410492410587067, 0.9977663758357356, 0.9999152103753288, 0.9285012752555027, 0.007689451554910996, 0.06343797532801572, 0.9979136391397585, 0.0037443266138025783, 0.9959908792714858, 0.9977490199450642, 0.0010916291246663723, 0.9546446891505025, 0.04497133598264144, 0.9975002956977173, 0.9984179489080256, 0.3346767816708306, 0.6587289036060793, 0.0064928476161889535, 0.9966425410720489, 0.0018983667448991407, 0.9989374128326676, 0.0005341911298570415, 0.9975294872546177, 0.36104202865604296, 0.4206523721107428, 0.21816156625173658, 0.9970092589577715, 0.6080573015506976, 0.3916259907659991, 0.4554827385743903, 0.5300680370159467, 0.012525775310795734, 0.0011387068464359757, 0.10702281751176713, 0.0007484113112710989, 0.8921062830351498, 0.998415285243956, 0.9996538481160122, 0.9973518469528497, 0.0020236582394054362, 0.0006745527464684787, 0.33187995126249153, 0.6657835607643885, 0.9972197508950997, 0.9896716011003583, 0.0003879543712663106, 0.009698859281657765, 0.005567826695292257, 0.9929290939937858, 0.9999029006702511, 0.9987625396328355, 0.23158672992896792, 0.2060505505831882, 0.5617959456071541, 0.9984380895813562, 0.10739825604052795, 0.22759526798225874, 0.3266465093046109, 0.027266914746040778, 0.22008295473590056, 0.09112157734008525, 0.9965934649350345, 0.002841996573008654, 0.9978529661142241, 0.8538162879863025, 0.027069472802736142, 0.012406841701254065, 0.10602210181071656, 0.9991168420300093, 0.9990250239591112, 0.9991559198188338, 0.9070372543528783, 0.0008976123249409978, 0.00852731708693948, 0.0830291400570423, 0.9577624648035357, 0.04122237714813753, 0.9982216362058363, 0.0006785132488020293, 0.7989493504643894, 0.20016140839659863, 0.9990002272050835, 0.024453270826481258, 0.004366655504728796, 0.9711441842516843, 0.9987687515856833, 0.9990155227519685, 0.999896677202993, 0.9993190956980397, 0.9990536196395304, 0.9987142328199352, 0.9999303316370004, 0.08755830929596198, 0.3067131307882218, 0.3243284119483562, 0.014765750384230274, 0.18677378994789523, 0.07978686172531446, 0.9988808171460021, 0.00784809799209442, 0.9911026607159239, 0.00043487770503851495, 0.290498306965728, 0.7066762706875869, 0.00043487770503851495, 0.0017395108201540598, 0.9980585320838337, 0.9993692669113707, 0.9982018569768765, 0.9986406436628646, 0.012612470926167968, 0.780693671386426, 0.000731157734850317, 0.001462315469700634, 0.2045413763243762, 0.9985426804187201, 0.0006901600470777799, 0.0786782453668669, 0.9206735028017584, 0.9985719310760061, 0.9987938821072787, 0.5236278592153731, 0.2110466856394371, 0.01305443416326415, 0.00036262317120178193, 0.2520231039852385, 0.9982159439834978, 0.9984631183042854, 0.9984729755807797, 0.9987309449149501, 0.9990954507309756, 0.9978170811381981, 0.9981642583542307, 0.9977210981855686, 0.9954614740354544, 0.0019366954747771486, 0.998884570803939, 0.9975658405106372, 0.003719295144498718, 0.9949114511534072, 0.001859647572249359, 0.9995192784580816, 0.9986793309535674, 0.9990667550452863, 0.998199894297058, 0.9976002777088396, 0.9793996999678449, 0.019906497966826114, 0.9975125770215661, 0.0020311073256326483, 0.9972736968856303, 0.998479091284458, 0.9968315341192694, 0.9991291634676703, 0.9974145166426033, 0.9986327442104912, 0.9987396083733124, 0.9993076498188003, 0.00021024776979145808, 0.00042049553958291617, 0.3993409254358147, 0.23210101557973306, 0.0006358931933691317, 0.36532063959056615, 0.002225626176791961, 0.6722147051003627, 0.32148460531288825, 0.0020504221218344667, 0.0019425051680537053, 0.0019425051680537053, 0.0003237508613422842, 0.9984723955807434, 0.9987794996843815, 0.3127969541826063, 0.5037249651771841, 0.007616808949251776, 0.17620218035935775, 0.9991996567142875, 0.9981885769033061, 0.9977001501896124, 0.0011601164537088516, 0.9984353853922848, 0.9973992116878153, 0.9981994122136368, 0.2341102693974542, 0.12697119771604867, 0.38798021276968553, 0.03624491999434783, 0.1664074943136724, 0.04832655999246377, 0.9993550603160283, 0.34906278114638617, 0.23429426877627962, 0.07462926581579465, 0.3350883767904405, 0.006838538301845725, 0.28662482282558455, 0.12001652155760646, 0.2249090099107991, 0.020246689612360442, 0.1278224741792394, 0.22051816156113058, 0.7024561293823821, 0.0020127682790326137, 0.034619614399360954, 0.00040255365580652274, 0.2604522153068202, 0.0013980298348501056, 0.9981933020829754, 0.6409074701168559, 0.350822739518097, 0.00777446514167528, 0.002901851774918377, 0.9953351587970032, 0.99904805608609, 0.997884759034292, 0.0013694532527900576, 0.9983314212839519, 0.9980382058447815, 0.4173441627849397, 0.021256918308231225, 0.009919895210507904, 0.4655265109502638, 0.0864448011201403, 0.9161268204275187, 0.0008482655744699247, 0.00042413278723496236, 0.00042413278723496236, 0.008482655744699247, 0.07379910497888345, 0.9863056758747407, 0.009025019256370176, 0.003867865395587218, 0.9972917704277645, 0.9992134520845376, 0.9991599900975928, 0.9987483650491499, 0.9989437125168417, 0.9996064366402132, 0.9999726214739053, 0.9993828117229872, 0.2961582445070558, 0.19209504368311406, 0.04471905116488307, 0.01378134281181931, 0.29137696230703686, 0.16171983911828783, 0.9986640136965437, 0.0022356973043014088, 0.9971209977184282, 0.9986560794448543, 0.9996727133941882, 0.296540909855779, 0.008294850625336476, 0.0031105689845011783, 0.6926200272155957, 0.9954860645543168, 0.0034485660434907047, 0.9999110796091928, 0.9984095298281519, 0.0017809363571698023, 0.9955434236579195, 0.00108775196550405, 0.7782865313181478, 0.22026977301457012, 0.14695881011853318, 0.2908492494763497, 0.1915309327478905, 0.023578006898138288, 0.2456311540552626, 0.10125623510364867, 0.9989237118836195, 0.9977115811769321, 0.8092598871758581, 0.000922759278421731, 0.18916565207645486, 0.7252884799297586, 0.2739978701956866, 0.7798960609068453, 0.014315989436754772, 0.20562966645520492, 0.5846994665919837, 0.29905263723399517, 0.0027499093078988063, 0.0006874773269747016, 0.018561887828316942, 0.09452813245902146, 0.9989646165801245, 0.9925655530587609, 0.006631841111751187, 0.04809246934409221, 0.004932560958368431, 0.9458185637671468, 0.9987977492107597, 0.33986481503835847, 0.5112551745762914, 0.020735317600052375, 0.12797578831282325, 0.9523142546741317, 0.046945068892386775, 0.742043164136729, 0.06685073550781342, 0.011141789251302237, 0.005013805163086006, 0.09247685078580857, 0.08244924045963656, 0.0019913300530379624, 0.0009956650265189812, 0.8562719228063238, 0.013939310371265737, 0.1264494583679106, 0.001140410241808638, 0.003991435846330232, 0.7766193746716823, 0.2178183561854498, 0.9983654804708241, 0.9969951648119338, 0.0018566017966702678, 0.20894808043237478, 0.38920941141763316, 0.16708093259063736, 0.002325952657874302, 0.2322076070111178, 0.7865482477087227, 0.2130941758244512, 0.4999689115736046, 0.0009822571936613058, 0.49898665437994333, 0.9993144450126821, 0.9994465131913723, 0.0008538464228312573, 0.015491213671367096, 0.5370693999608608, 0.007928573926290245, 0.26152096150717363, 0.17711214370728365, 0.9976313448979558, 0.5638995874848881, 0.11737040442562426, 0.06798789352654679, 0.03477641612611089, 0.11111064952292429, 0.10467701253959379, 0.27667147879203974, 0.004870976739296475, 0.03750652089258285, 0.4189039995794968, 0.26205854857415034, 0.9980989734680574, 0.0010429456358077925, 0.4574404903709145, 0.30437095024679844, 0.000505180000409624, 0.23566647019108958, 0.001768130001433684, 0.9999061192767008, 0.9970337265175204, 0.001794840191750712, 0.9974780043989058, 0.9996325840254304, 0.9983052356875185, 0.9991279882534684, 0.01273677943786391, 0.9858267284906668, 0.998546327171354, 0.0005709241436085501, 0.0005709241436085501, 0.9988269075065848, 0.0019343391818060999, 0.9971518482210445, 0.993264968351124, 0.004913099596130869, 0.0016376998653769563, 0.991130183337891, 0.007859874570482879, 0.004660452829802319, 0.6172112529725378, 0.23636860762433295, 0.02682747846899027, 0.0005377445572848829, 0.11436034251591842, 0.9996742572448727, 0.9990224887064695, 0.9978639281295327, 0.20872118948994417, 0.0021298080560198385, 0.048985585288456285, 0.7401082994668938, 0.4639411055480488, 0.4982224680269686, 0.006399187662731707, 0.01325546015851568, 0.018283393322090592, 0.9979785725521543, 0.36261333531896933, 0.0006765174166398682, 0.10350716474589983, 0.5330957243122161, 0.9969986130818003, 0.002729366559081972, 0.998484423273597, 0.998576621359868, 0.003154887688362665, 0.005047820301380264, 0.6429661108883111, 0.015774438441813324, 0.3079170383841961, 0.02523910150690132, 0.42134966260282636, 0.44998507656612524, 0.11829153149124656, 0.0010226933558321028, 0.005454364564437882, 0.0037498756380510436, 0.0007442020847192161, 0.05209414593034513, 0.07442020847192161, 0.8729490453756406, 0.9983980260414448, 0.9991335807413515, 0.9990194831706525, 0.998849266741241, 0.10492053571706401, 0.3176581863581049, 0.272922129718007, 0.02574737072811387, 0.27774976172952837, 0.0009655264023042702, 0.9975369158101658, 0.0016681219327929196, 0.9974193657541662, 0.189914173747508, 0.7910845724423383, 0.009428363235691887, 0.009428363235691887, 0.9980869525094852, 0.9989604187294353, 0.000862660119800894, 0.9984293656006089, 0.9979865699188577, 0.9983370338440615, 0.9992188938636803, 0.9987313900932994, 0.00030839320367247164, 0.0006167864073449433, 0.00030839320367247164, 0.9980107770653204, 0.9972964771258854, 0.9982673230712454, 0.9986108927819374, 0.9972017692917197, 0.9985032048416023, 0.9920656792419904, 0.006771779380491402, 0.9990409778840825, 0.9982894370341595, 0.9988772800755036, 0.7973369246268205, 0.18530406614833145, 0.01588320566985698, 0.9978707569651457, 0.0013340518141245264, 0.03887199423866843, 0.011337664986278292, 0.9491245259941542, 0.0015401392983560992, 0.9980102653347522, 0.9983791562938505, 0.0009356880565078261, 0.9983895919664244, 0.9977188663764016, 0.9994239769185519, 0.9984981971545389, 0.9970744814345682, 0.001375275146806301, 0.45794873090940225, 0.5417984985407013, 0.9984758302287217, 0.0010411635351707212, 0.9976258681929115, 0.9986800375277907, 0.15963845517580325, 0.8395800235171874, 0.9977149374404629, 0.3264590449901131, 0.08153036128760321, 0.15124472818569873, 0.002194398958051432, 0.257419877771418, 0.18112231399916823, 0.9985142107769203, 0.9993723320192819, 0.9986812724674187, 0.19841969910786747, 0.009168358510501462, 0.1443674362474484, 0.581438138971951, 0.013820958351651457, 0.052957533486030835, 0.0520879854010981, 0.8817075346985879, 0.0009470542800199656, 0.06439969104135766, 0.9765023089013251, 0.023530176118104217, 0.9995451316366329, 0.9992122524381432, 0.9590698895093852, 0.04060685883159514, 0.999438635214589, 0.027416106535343248, 0.20904781233199227, 0.7619392941280811, 0.9978421189415326, 0.6816170061560626, 0.052637962517287556, 0.24950989012431785, 0.015761649793312092, 0.9989866184348898, 0.991874060635533, 0.005378926576114604, 0.0010757853152229208, 0.0010757853152229208, 0.9978782947792545, 0.9991806520991604, 0.9990058453859455, 0.999003726535945, 0.0004684458174269401, 0.9991949285716631, 0.9989808768906793, 0.019033044847382517, 0.9790122443372382, 0.0011895653029614073, 0.004564876408338993, 0.0022824382041694963, 0.9928606188137309, 0.99864397182819, 0.9977267475450923, 0.2977141128949539, 0.5264903266974288, 0.16959943316556803, 0.0067107689382059285, 0.9948856761256482, 0.004045745817886185, 0.000735590148706579, 0.0003677950743532895, 0.0016059689834065658, 0.5211369351154306, 0.09435067777513574, 0.3828228564195401, 0.9969254071154252, 0.9975385237685425, 0.999258677645513, 0.9974631764836617, 0.9971731179161358, 0.007472616725822414, 0.9901217161714699, 0.9984445749369341, 0.9984890682523098, 0.34110321161903845, 0.2688888989747512, 0.03364530475472472, 0.041030859456981365, 0.22019894575246668, 0.09519159394019677, 0.9983862134848064, 0.9988159416268529, 0.9999544243444278, 0.0030999384529833795, 0.16636336364344137, 0.8056395601697917, 0.005511001694192675, 0.019288505929674363, 0.9988049010965891, 0.5802030316418488, 0.09778095784653132, 0.1129072938669892, 0.012155091445010799, 0.14640132362657451, 0.05051115778260043, 0.9745916877862805, 0.0004439042076002189, 0.015536647266007661, 0.009321988359604596, 0.0021184579617457085, 0.9977936999822287, 0.9990771935418352, 0.0005238999441750578, 0.00018661987347717127, 0.00447887696345211, 0.6572751943865972, 0.07464794939086851, 0.25286992856156704, 0.010637332788198763, 0.001243886604902291, 0.9503293661453504, 0.048511577591189355, 0.0005735319363458373, 0.1191512597758477, 0.6655838121293443, 0.04057738449646799, 0.1300483665664186, 0.04401857611454301, 0.9985346920153675, 0.9992401285065275, 0.998895629546773, 0.0448608819666093, 0.007177741114657487, 0.9456673918561239, 0.9981683540633675, 0.9895725404377168, 0.009983077331023625, 0.9980487850245503, 0.9986232514225054, 0.0008132111167935712, 0.9199717300721946, 0.07951883305145299, 0.9988049164510633, 0.9985775595282425, 0.9992499378794374, 0.8921006586083886, 0.10658485773880912, 0.0007300332721836241, 0.0015113535211412224, 0.3510118552850489, 0.3502561785244783, 0.007745686795848765, 0.2886685225379735, 0.0009445959507132641, 0.629245601070449, 0.0013129798666050058, 0.005908409399722526, 0.09322157052895541, 0.1440995403598994, 0.12604606719408054, 0.3092279791342155, 0.6356006546922031, 0.002805495778435423, 0.003740661037913898, 0.004364104544232881, 0.04426448894864779, 0.7862981123079715, 0.08913854676900594, 0.1245317932802289, 0.9999043878677351, 0.6497210449501792, 0.23234213788893274, 0.0020013809841646518, 0.005276368049161355, 0.08296633897991647, 0.027655446326638824], \"Term\": [\"accord\", \"act\", \"actor\", \"actress\", \"add\", \"add\", \"add\", \"almost\", \"also\", \"also\", \"also\", \"also\", \"also\", \"also\", \"always\", \"archive\", \"area\", \"area\", \"area\", \"arm\", \"army\", \"army\", \"ask\", \"ask\", \"author\", \"author\", \"away\", \"baby\", \"back\", \"back\", \"back\", \"ball\", \"ball\", \"base\", \"base\", \"baseball\", \"bear\", \"bear\", \"bear\", \"beat\", \"become\", \"become\", \"big\", \"big\", \"big\", \"big\", \"bird\", \"bird\", \"bird\", \"blood\", \"blue\", \"boat\", \"body\", \"body\", \"body\", \"body\", \"bone\", \"book\", \"book\", \"book\", \"border\", \"border\", \"br\", \"branch\", \"brother\", \"brother\", \"brother\", \"buy\", \"call\", \"call\", \"call\", \"call\", \"call\", \"call\", \"capital\", \"capital\", \"captain\", \"car\", \"car\", \"car\", \"car\", \"catch\", \"celebrate\", \"center\", \"character\", \"character\", \"character\", \"character\", \"child\", \"child\", \"church\", \"city\", \"city\", \"city\", \"claim\", \"classic\", \"classic\", \"classic\", \"club\", \"clue\", \"clue_crew\", \"co\", \"coin\", \"color\", \"com\", \"come\", \"come\", \"come\", \"come\", \"come\", \"come\", \"comedy\", \"common\", \"common\", \"company\", \"company\", \"company\", \"company\", \"company\", \"complete\", \"contain\", \"continent\", \"control\", \"country\", \"country\", \"country\", \"country\", \"country\", \"court\", \"create\", \"create\", \"create\", \"crime\", \"cut\", \"day\", \"day\", \"day\", \"day\", \"day\", \"dead\", \"degree\", \"deliver\", \"describe\", \"direct\", \"director\", \"discover\", \"dish\", \"do\", \"do\", \"doctor\", \"double\", \"drive\", \"drive\", \"drive\", \"eat\", \"egg\", \"elect\", \"element\", \"emperor\", \"english\", \"english\", \"equal\", \"example\", \"example\", \"fame\", \"far\", \"favorite\", \"feel\", \"female\", \"field\", \"film\", \"film\", \"film\", \"find\", \"find\", \"find\", \"find\", \"find\", \"first\", \"first\", \"first\", \"first\", \"first\", \"first\", \"fish\", \"food\", \"form\", \"form\", \"form\", \"form\", \"found\", \"free\", \"friend\", \"friend\", \"fruit\", \"future\", \"general\", \"get\", \"get\", \"get\", \"get\", \"get\", \"get\", \"girl\", \"give\", \"give\", \"give\", \"give\", \"give\", \"go\", \"go\", \"go\", \"go\", \"go\", \"go\", \"good\", \"good\", \"good\", \"good\", \"good\", \"green\", \"green\", \"group\", \"group\", \"group\", \"grow\", \"grow\", \"guy\", \"hair\", \"half\", \"half\", \"hang\", \"hear\", \"hear\", \"hear\", \"hear\", \"hear\", \"hit\", \"hit\", \"hit\", \"hit\", \"hit\", \"hit\", \"honor\", \"honor\", \"honor\", \"hope\", \"horse\", \"host\", \"hot\", \"hour\", \"href\", \"http\", \"human\", \"include\", \"include\", \"include\", \"include\", \"include\", \"include\", \"indian\", \"introduce\", \"introduce\", \"invent\", \"island\", \"italian\", \"italian\", \"italian\", \"italian\", \"join\", \"join\", \"jpg\", \"kid\", \"kind\", \"kind\", \"king\", \"king\", \"king\", \"know\", \"know\", \"know\", \"know\", \"know\", \"know\", \"lady\", \"lake\", \"land\", \"land\", \"land\", \"language\", \"language\", \"large\", \"large\", \"large\", \"last\", \"last\", \"last\", \"last\", \"last\", \"last\", \"late\", \"latin\", \"latin\", \"law\", \"law\", \"law\", \"let\", \"letter\", \"letter\", \"letter\", \"letter\", \"lie\", \"lie\", \"life\", \"life\", \"life\", \"life\", \"life\", \"life\", \"light\", \"light\", \"light\", \"light\", \"light\", \"line\", \"line\", \"line\", \"line\", \"list\", \"locate\", \"locate\", \"long\", \"long\", \"long\", \"long\", \"long\", \"look\", \"look\", \"love\", \"love\", \"love\", \"main\", \"major\", \"make\", \"make\", \"make\", \"make\", \"make\", \"make\", \"male\", \"man\", \"man\", \"man\", \"man\", \"man\", \"man\", \"many\", \"many\", \"many\", \"many\", \"many\", \"marry\", \"marry\", \"mean\", \"mean\", \"mean\", \"mean\", \"mean\", \"medium\", \"member\", \"member\", \"metal\", \"mile\", \"monitor\", \"mother\", \"mountain\", \"mountain\", \"movie\", \"movie\", \"movie\", \"mp\", \"museum\", \"museum\", \"music\", \"music\", \"music\", \"musical\", \"musical\", \"name\", \"name\", \"name\", \"name\", \"name\", \"name\", \"nation\", \"national\", \"native\", \"need\", \"need\", \"need\", \"need\", \"new\", \"new\", \"new\", \"new\", \"new\", \"news\", \"nickname\", \"nickname\", \"nickname\", \"nickname\", \"novel\", \"novel\", \"office\", \"official\", \"often\", \"often\", \"often\", \"often\", \"often\", \"often\", \"old\", \"old\", \"old\", \"old\", \"old\", \"old\", \"open\", \"open\", \"open\", \"open\", \"opera\", \"order\", \"originally\", \"pair\", \"part\", \"part\", \"part\", \"part\", \"part\", \"part\", \"party\", \"party\", \"pay\", \"people\", \"people\", \"people\", \"people\", \"perform\", \"person\", \"person\", \"phrase\", \"piece\", \"planet\", \"plant\", \"play\", \"play\", \"play\", \"play\", \"poem\", \"port\", \"pound\", \"practice\", \"precede\", \"probably\", \"process\", \"process\", \"publish\", \"race\", \"radio\", \"read\", \"read\", \"read\", \"real\", \"real\", \"really\", \"really\", \"really\", \"receive\", \"receive\", \"record\", \"record\", \"region\", \"release\", \"report\", \"represent\", \"ride\", \"ride\", \"river\", \"river\", \"role\", \"role\", \"roman\", \"rule\", \"run\", \"run\", \"russian\", \"say\", \"say\", \"say\", \"say\", \"say\", \"say\", \"scottish\", \"sea\", \"season\", \"see\", \"see\", \"see\", \"see\", \"see\", \"see\", \"sell\", \"sell\", \"sell\", \"sell\", \"send\", \"send\", \"series\", \"serve\", \"set\", \"set\", \"share\", \"ship\", \"ship\", \"ship\", \"shoot\", \"show\", \"show\", \"show\", \"show\", \"sing\", \"singer\", \"singer\", \"singer\", \"singer\", \"single\", \"sister\", \"sitcom\", \"son\", \"song\", \"song\", \"south\", \"spanish\", \"spanish\", \"spanish\", \"speak\", \"speak\", \"speak\", \"specie\", \"spend\", \"stand\", \"stand\", \"stand\", \"stand\", \"star\", \"star\", \"star\", \"star\", \"state\", \"state\", \"state\", \"state\", \"statue\", \"stone\", \"story\", \"street\", \"strike\", \"student\", \"student\", \"sun\", \"system\", \"take\", \"take\", \"take\", \"take\", \"take\", \"take\", \"tale\", \"talk\", \"target\", \"term\", \"term\", \"term\", \"term\", \"term\", \"throw\", \"time\", \"time\", \"time\", \"time\", \"time\", \"time\", \"title\", \"title\", \"title\", \"title\", \"tree\", \"tree\", \"tv\", \"tv\", \"type\", \"type\", \"type\", \"type\", \"type\", \"type\", \"university\", \"university\", \"university\", \"use\", \"use\", \"use\", \"use\", \"use\", \"use\", \"usually\", \"variety\", \"visit\", \"voice\", \"voice\", \"voice\", \"walk\", \"war\", \"war\", \"watch\", \"wear\", \"wear\", \"white\", \"white\", \"win\", \"wine\", \"wmv\", \"woman\", \"woman\", \"woman\", \"word\", \"word\", \"word\", \"word\", \"word\", \"word\", \"work\", \"work\", \"work\", \"work\", \"work\", \"work\", \"world\", \"world\", \"world\", \"world\", \"world\", \"world\", \"write\", \"write\", \"write\", \"www\", \"year\", \"year\", \"year\", \"year\", \"year\", \"year\"]}, \"R\": 30, \"lambda.step\": 0.01, \"plot.opts\": {\"xlab\": \"PC1\", \"ylab\": \"PC2\"}, \"topic.order\": [2, 1, 4, 6, 5, 3]};\n",
       "\n",
       "function LDAvis_load_lib(url, callback){\n",
       "  var s = document.createElement('script');\n",
       "  s.src = url;\n",
       "  s.async = true;\n",
       "  s.onreadystatechange = s.onload = callback;\n",
       "  s.onerror = function(){console.warn(\"failed to load library \" + url);};\n",
       "  document.getElementsByTagName(\"head\")[0].appendChild(s);\n",
       "}\n",
       "\n",
       "if(typeof(LDAvis) !== \"undefined\"){\n",
       "   // already loaded: just create the visualization\n",
       "   !function(LDAvis){\n",
       "       new LDAvis(\"#\" + \"ldavis_el576822102641846407738484816\", ldavis_el576822102641846407738484816_data);\n",
       "   }(LDAvis);\n",
       "}else if(typeof define === \"function\" && define.amd){\n",
       "   // require.js is available: use it to load d3/LDAvis\n",
       "   require.config({paths: {d3: \"https://d3js.org/d3.v5\"}});\n",
       "   require([\"d3\"], function(d3){\n",
       "      window.d3 = d3;\n",
       "      LDAvis_load_lib(\"https://cdn.jsdelivr.net/gh/bmabey/pyLDAvis@3.2.2/pyLDAvis/js/ldavis.v3.0.0.js\", function(){\n",
       "        new LDAvis(\"#\" + \"ldavis_el576822102641846407738484816\", ldavis_el576822102641846407738484816_data);\n",
       "      });\n",
       "    });\n",
       "}else{\n",
       "    // require.js not available: dynamically load d3 & LDAvis\n",
       "    LDAvis_load_lib(\"https://d3js.org/d3.v5.js\", function(){\n",
       "         LDAvis_load_lib(\"https://cdn.jsdelivr.net/gh/bmabey/pyLDAvis@3.2.2/pyLDAvis/js/ldavis.v3.0.0.js\", function(){\n",
       "                 new LDAvis(\"#\" + \"ldavis_el576822102641846407738484816\", ldavis_el576822102641846407738484816_data);\n",
       "            })\n",
       "         });\n",
       "}\n",
       "</script>"
      ],
      "text/plain": [
       "PreparedData(topic_coordinates=              x         y  topics  cluster       Freq\n",
       "topic                                                \n",
       "1     -0.077279  0.259501       1        1  21.273304\n",
       "0     -0.131466  0.041907       2        1  18.771740\n",
       "3     -0.051129 -0.232004       3        1  17.459512\n",
       "5      0.416593  0.017496       4        1  14.786469\n",
       "4     -0.076932 -0.182440       5        1  13.953721\n",
       "2     -0.079787  0.095539       6        1  13.755254, topic_info=        Term          Freq         Total Category  logprob  loglift\n",
       "153      com  13944.000000  13944.000000  Default  30.0000  30.0000\n",
       "158   medium  13914.000000  13914.000000  Default  29.0000  29.0000\n",
       "150  archive  13812.000000  13812.000000  Default  28.0000  28.0000\n",
       "161      www  13810.000000  13810.000000  Default  27.0000  27.0000\n",
       "157     http  13543.000000  13543.000000  Default  26.0000  26.0000\n",
       "..       ...           ...           ...      ...      ...      ...\n",
       "107  country   1119.275189   5470.775743   Topic6  -5.1125   0.3970\n",
       "353      say   1072.770595   5924.173429   Topic6  -5.1550   0.2750\n",
       "57        go    903.829889   4099.435591   Topic6  -5.3263   0.4718\n",
       "141  brother    638.377922   1135.643653   Topic6  -5.6740   1.4077\n",
       "193     bear    709.750958   3254.468751   Topic6  -5.5680   0.4609\n",
       "\n",
       "[370 rows x 6 columns], token_table=      Topic      Freq     Term\n",
       "term                          \n",
       "2546      1  0.998692   accord\n",
       "872       4  0.998534      act\n",
       "832       1  0.999659    actor\n",
       "1048      3  0.998811  actress\n",
       "741       2  0.227589      add\n",
       "...     ...       ...      ...\n",
       "7         2  0.232342     year\n",
       "7         3  0.002001     year\n",
       "7         4  0.005276     year\n",
       "7         5  0.082966     year\n",
       "7         6  0.027655     year\n",
       "\n",
       "[664 rows x 3 columns], R=30, lambda_step=0.01, plot_opts={'xlab': 'PC1', 'ylab': 'PC2'}, topic_order=[2, 1, 4, 6, 5, 3])"
      ]
     },
     "execution_count": 76,
     "metadata": {},
     "output_type": "execute_result"
    }
   ],
   "source": [
    "pyLDAvis.enable_notebook()\n",
    "pyLDAvis.gensim.prepare(lda_model, corpus, dictionary, sort_topics = True)"
   ]
  },
  {
   "cell_type": "code",
   "execution_count": null,
   "id": "4051ccf9-a2af-4150-8e7d-ebfec41b3962",
   "metadata": {},
   "outputs": [],
   "source": []
  },
  {
   "cell_type": "code",
   "execution_count": null,
   "id": "fff63721-9cbc-4588-9fb3-c965caeef91b",
   "metadata": {},
   "outputs": [],
   "source": []
  },
  {
   "cell_type": "code",
   "execution_count": null,
   "id": "3c302876-cdda-48de-a228-97f56b1c1217",
   "metadata": {},
   "outputs": [],
   "source": []
  }
 ],
 "metadata": {
  "kernelspec": {
   "display_name": "Python 3 (ipykernel)",
   "language": "python",
   "name": "python3"
  },
  "language_info": {
   "codemirror_mode": {
    "name": "ipython",
    "version": 3
   },
   "file_extension": ".py",
   "mimetype": "text/x-python",
   "name": "python",
   "nbconvert_exporter": "python",
   "pygments_lexer": "ipython3",
   "version": "3.8.0"
  }
 },
 "nbformat": 4,
 "nbformat_minor": 5
}
